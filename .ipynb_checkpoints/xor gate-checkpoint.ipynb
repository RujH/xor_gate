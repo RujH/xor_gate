{
 "cells": [
  {
   "cell_type": "code",
   "execution_count": 1,
   "metadata": {},
   "outputs": [],
   "source": [
    "from bayes_opt import BayesianOptimization\n",
    "from tensorflow.keras.models import Sequential\n",
    "from tensorflow.keras.layers import Dense\n",
    "import numpy as np\n",
    "import tensorflow as tf\n",
    "import math\n",
    "import os\n",
    "import random as rn\n",
    "\n",
    "os.environ[\"CUDA_DEVICE_ORDER\"] = \"PCI_BUS_ID\"\n",
    "os.environ[\"CUDA_VISIBLE_DEVICES\"] = \"\"\n",
    "\n",
    "SEED = 121\n",
    "\n",
    "np.random.seed(SEED)\n",
    "rn.seed(SEED)\n",
    "os.environ['PYTHONHASHSEED']=str(SEED)\n",
    "tf.random.set_seed(SEED)\n",
    "\n",
    "import tensorflow.keras.backend as K\n",
    "config = tf.compat.v1.ConfigProto(intra_op_parallelism_threads=1,inter_op_parallelism_threads=1, device_count = {'CPU' : 1, 'GPU' : 0})\n",
    "sess = tf.compat.v1.Session(graph=tf.compat.v1.get_default_graph(), config=config)\n",
    "tf.compat.v1.keras.backend.set_session(sess)"
   ]
  },
  {
   "cell_type": "code",
   "execution_count": 2,
   "metadata": {},
   "outputs": [],
   "source": [
    "training_data = np.array([[0,0],[0,1],[1,0],[1,1]], \"float32\")\n",
    "target_data = np.array([[0],[1],[1],[0]], \"float32\")"
   ]
  },
  {
   "cell_type": "code",
   "execution_count": 3,
   "metadata": {},
   "outputs": [],
   "source": [
    "def black_box_function(node, epochs):\n",
    "    \n",
    "    np.random.seed(SEED)\n",
    "    rn.seed(SEED)\n",
    "    os.environ['PYTHONHASHSEED']=str(SEED)\n",
    "    tf.random.set_seed(SEED)\n",
    "    \n",
    "    model = Sequential()\n",
    "    model.add(Dense(math.floor(node), input_dim=2, activation='relu'))\n",
    "    model.add(Dense(1, activation='sigmoid'))\n",
    "\n",
    "    model.compile(loss='mean_squared_error',\n",
    "                  optimizer='adam',\n",
    "                  metrics=['binary_accuracy'])\n",
    "\n",
    "    model.fit(training_data, target_data, epochs=math.floor(epochs), verbose=0)\n",
    "    \n",
    "    number_of_equal_elements = np.sum(target_data==model.predict(training_data).round())\n",
    "    total_elements = np.multiply(*target_data.shape)\n",
    "    percentage = number_of_equal_elements/total_elements\n",
    "    \n",
    "    return percentage"
   ]
  },
  {
   "cell_type": "code",
   "execution_count": 4,
   "metadata": {},
   "outputs": [],
   "source": [
    "bounds={'node':(16, 32),\n",
    "        'epochs':(200,500)\n",
    "       }"
   ]
  },
  {
   "cell_type": "code",
   "execution_count": 5,
   "metadata": {
    "scrolled": true
   },
   "outputs": [
    {
     "name": "stdout",
     "output_type": "stream",
     "text": [
      "|   iter    |  target   |  epochs   |   node    |\n",
      "-------------------------------------------------\n",
      "| \u001b[0m 1       \u001b[0m | \u001b[0m 1.0     \u001b[0m | \u001b[0m 325.1   \u001b[0m | \u001b[0m 27.53   \u001b[0m |\n",
      "| \u001b[0m 2       \u001b[0m | \u001b[0m 1.0     \u001b[0m | \u001b[0m 200.0   \u001b[0m | \u001b[0m 20.84   \u001b[0m |\n",
      "| \u001b[0m 3       \u001b[0m | \u001b[0m 1.0     \u001b[0m | \u001b[0m 244.0   \u001b[0m | \u001b[0m 17.48   \u001b[0m |\n",
      "| \u001b[0m 4       \u001b[0m | \u001b[0m 1.0     \u001b[0m | \u001b[0m 255.9   \u001b[0m | \u001b[0m 21.53   \u001b[0m |\n",
      "| \u001b[0m 5       \u001b[0m | \u001b[0m 1.0     \u001b[0m | \u001b[0m 319.0   \u001b[0m | \u001b[0m 24.62   \u001b[0m |\n",
      "| \u001b[0m 6       \u001b[0m | \u001b[0m 1.0     \u001b[0m | \u001b[0m 500.0   \u001b[0m | \u001b[0m 17.91   \u001b[0m |\n",
      "| \u001b[0m 7       \u001b[0m | \u001b[0m 1.0     \u001b[0m | \u001b[0m 499.4   \u001b[0m | \u001b[0m 31.48   \u001b[0m |\n",
      "| \u001b[0m 8       \u001b[0m | \u001b[0m 1.0     \u001b[0m | \u001b[0m 499.7   \u001b[0m | \u001b[0m 16.35   \u001b[0m |\n",
      "| \u001b[0m 9       \u001b[0m | \u001b[0m 1.0     \u001b[0m | \u001b[0m 200.4   \u001b[0m | \u001b[0m 31.74   \u001b[0m |\n",
      "| \u001b[0m 10      \u001b[0m | \u001b[0m 1.0     \u001b[0m | \u001b[0m 499.5   \u001b[0m | \u001b[0m 31.87   \u001b[0m |\n",
      "| \u001b[0m 11      \u001b[0m | \u001b[0m 1.0     \u001b[0m | \u001b[0m 200.1   \u001b[0m | \u001b[0m 31.38   \u001b[0m |\n",
      "| \u001b[0m 12      \u001b[0m | \u001b[0m 1.0     \u001b[0m | \u001b[0m 499.7   \u001b[0m | \u001b[0m 31.96   \u001b[0m |\n",
      "| \u001b[0m 13      \u001b[0m | \u001b[0m 0.75    \u001b[0m | \u001b[0m 200.9   \u001b[0m | \u001b[0m 16.28   \u001b[0m |\n",
      "| \u001b[0m 14      \u001b[0m | \u001b[0m 1.0     \u001b[0m | \u001b[0m 410.2   \u001b[0m | \u001b[0m 16.0    \u001b[0m |\n",
      "| \u001b[0m 15      \u001b[0m | \u001b[0m 1.0     \u001b[0m | \u001b[0m 449.0   \u001b[0m | \u001b[0m 31.89   \u001b[0m |\n",
      "| \u001b[0m 16      \u001b[0m | \u001b[0m 1.0     \u001b[0m | \u001b[0m 372.6   \u001b[0m | \u001b[0m 32.0    \u001b[0m |\n",
      "| \u001b[0m 17      \u001b[0m | \u001b[0m 1.0     \u001b[0m | \u001b[0m 287.9   \u001b[0m | \u001b[0m 32.0    \u001b[0m |\n",
      "| \u001b[0m 18      \u001b[0m | \u001b[0m 1.0     \u001b[0m | \u001b[0m 352.8   \u001b[0m | \u001b[0m 16.0    \u001b[0m |\n",
      "| \u001b[0m 19      \u001b[0m | \u001b[0m 1.0     \u001b[0m | \u001b[0m 464.8   \u001b[0m | \u001b[0m 16.0    \u001b[0m |\n",
      "| \u001b[0m 20      \u001b[0m | \u001b[0m 1.0     \u001b[0m | \u001b[0m 234.5   \u001b[0m | \u001b[0m 32.0    \u001b[0m |\n",
      "| \u001b[0m 21      \u001b[0m | \u001b[0m 1.0     \u001b[0m | \u001b[0m 415.6   \u001b[0m | \u001b[0m 32.0    \u001b[0m |\n",
      "| \u001b[0m 22      \u001b[0m | \u001b[0m 1.0     \u001b[0m | \u001b[0m 286.2   \u001b[0m | \u001b[0m 16.0    \u001b[0m |\n",
      "| \u001b[0m 23      \u001b[0m | \u001b[0m 1.0     \u001b[0m | \u001b[0m 435.6   \u001b[0m | \u001b[0m 16.0    \u001b[0m |\n",
      "| \u001b[0m 24      \u001b[0m | \u001b[0m 1.0     \u001b[0m | \u001b[0m 383.0   \u001b[0m | \u001b[0m 16.0    \u001b[0m |\n",
      "| \u001b[0m 25      \u001b[0m | \u001b[0m 1.0     \u001b[0m | \u001b[0m 394.4   \u001b[0m | \u001b[0m 31.85   \u001b[0m |\n",
      "| \u001b[0m 26      \u001b[0m | \u001b[0m 1.0     \u001b[0m | \u001b[0m 473.0   \u001b[0m | \u001b[0m 32.0    \u001b[0m |\n",
      "| \u001b[0m 27      \u001b[0m | \u001b[0m 1.0     \u001b[0m | \u001b[0m 349.1   \u001b[0m | \u001b[0m 32.0    \u001b[0m |\n",
      "| \u001b[0m 28      \u001b[0m | \u001b[0m 1.0     \u001b[0m | \u001b[0m 331.0   \u001b[0m | \u001b[0m 16.0    \u001b[0m |\n",
      "| \u001b[0m 29      \u001b[0m | \u001b[0m 1.0     \u001b[0m | \u001b[0m 217.5   \u001b[0m | \u001b[0m 25.68   \u001b[0m |\n",
      "| \u001b[0m 30      \u001b[0m | \u001b[0m 1.0     \u001b[0m | \u001b[0m 268.6   \u001b[0m | \u001b[0m 32.0    \u001b[0m |\n",
      "| \u001b[0m 31      \u001b[0m | \u001b[0m 1.0     \u001b[0m | \u001b[0m 303.3   \u001b[0m | \u001b[0m 16.0    \u001b[0m |\n",
      "| \u001b[0m 32      \u001b[0m | \u001b[0m 1.0     \u001b[0m | \u001b[0m 482.5   \u001b[0m | \u001b[0m 16.21   \u001b[0m |\n",
      "| \u001b[0m 33      \u001b[0m | \u001b[0m 1.0     \u001b[0m | \u001b[0m 306.7   \u001b[0m | \u001b[0m 32.0    \u001b[0m |\n",
      "| \u001b[0m 34      \u001b[0m | \u001b[0m 1.0     \u001b[0m | \u001b[0m 432.4   \u001b[0m | \u001b[0m 32.0    \u001b[0m |\n",
      "| \u001b[0m 35      \u001b[0m | \u001b[0m 1.0     \u001b[0m | \u001b[0m 268.8   \u001b[0m | \u001b[0m 16.0    \u001b[0m |\n",
      "| \u001b[0m 36      \u001b[0m | \u001b[0m 1.0     \u001b[0m | \u001b[0m 367.9   \u001b[0m | \u001b[0m 16.0    \u001b[0m |\n",
      "| \u001b[0m 37      \u001b[0m | \u001b[0m 1.0     \u001b[0m | \u001b[0m 248.9   \u001b[0m | \u001b[0m 31.95   \u001b[0m |\n",
      "| \u001b[0m 38      \u001b[0m | \u001b[0m 1.0     \u001b[0m | \u001b[0m 206.8   \u001b[0m | \u001b[0m 27.41   \u001b[0m |\n",
      "| \u001b[0m 39      \u001b[0m | \u001b[0m 1.0     \u001b[0m | \u001b[0m 450.2   \u001b[0m | \u001b[0m 16.03   \u001b[0m |\n",
      "| \u001b[0m 40      \u001b[0m | \u001b[0m 1.0     \u001b[0m | \u001b[0m 220.2   \u001b[0m | \u001b[0m 31.99   \u001b[0m |\n",
      "| \u001b[0m 41      \u001b[0m | \u001b[0m 1.0     \u001b[0m | \u001b[0m 395.5   \u001b[0m | \u001b[0m 16.03   \u001b[0m |\n",
      "| \u001b[0m 42      \u001b[0m | \u001b[0m 1.0     \u001b[0m | \u001b[0m 423.0   \u001b[0m | \u001b[0m 22.33   \u001b[0m |\n",
      "| \u001b[0m 43      \u001b[0m | \u001b[0m 1.0     \u001b[0m | \u001b[0m 231.6   \u001b[0m | \u001b[0m 22.44   \u001b[0m |\n",
      "| \u001b[0m 44      \u001b[0m | \u001b[0m 1.0     \u001b[0m | \u001b[0m 360.5   \u001b[0m | \u001b[0m 25.85   \u001b[0m |\n",
      "| \u001b[0m 45      \u001b[0m | \u001b[0m 1.0     \u001b[0m | \u001b[0m 340.8   \u001b[0m | \u001b[0m 23.61   \u001b[0m |\n",
      "| \u001b[0m 46      \u001b[0m | \u001b[0m 1.0     \u001b[0m | \u001b[0m 485.1   \u001b[0m | \u001b[0m 31.93   \u001b[0m |\n",
      "| \u001b[0m 47      \u001b[0m | \u001b[0m 1.0     \u001b[0m | \u001b[0m 278.1   \u001b[0m | \u001b[0m 24.19   \u001b[0m |\n",
      "| \u001b[0m 48      \u001b[0m | \u001b[0m 1.0     \u001b[0m | \u001b[0m 404.4   \u001b[0m | \u001b[0m 24.81   \u001b[0m |\n",
      "| \u001b[0m 49      \u001b[0m | \u001b[0m 1.0     \u001b[0m | \u001b[0m 460.3   \u001b[0m | \u001b[0m 25.55   \u001b[0m |\n",
      "| \u001b[0m 50      \u001b[0m | \u001b[0m 1.0     \u001b[0m | \u001b[0m 297.0   \u001b[0m | \u001b[0m 24.34   \u001b[0m |\n",
      "| \u001b[0m 51      \u001b[0m | \u001b[0m 1.0     \u001b[0m | \u001b[0m 383.1   \u001b[0m | \u001b[0m 25.9    \u001b[0m |\n",
      "| \u001b[0m 52      \u001b[0m | \u001b[0m 1.0     \u001b[0m | \u001b[0m 442.0   \u001b[0m | \u001b[0m 24.13   \u001b[0m |\n",
      "| \u001b[0m 53      \u001b[0m | \u001b[0m 1.0     \u001b[0m | \u001b[0m 242.5   \u001b[0m | \u001b[0m 25.16   \u001b[0m |\n",
      "| \u001b[0m 54      \u001b[0m | \u001b[0m 1.0     \u001b[0m | \u001b[0m 335.7   \u001b[0m | \u001b[0m 31.88   \u001b[0m |\n",
      "| \u001b[0m 55      \u001b[0m | \u001b[0m 1.0     \u001b[0m | \u001b[0m 316.1   \u001b[0m | \u001b[0m 16.05   \u001b[0m |\n",
      "=================================================\n"
     ]
    }
   ],
   "source": [
    "optimizer = BayesianOptimization(\n",
    "    f=black_box_function,\n",
    "    pbounds=bounds,\n",
    "    random_state=1\n",
    ")\n",
    "optimizer.maximize(n_iter=50)"
   ]
  },
  {
   "cell_type": "code",
   "execution_count": 6,
   "metadata": {},
   "outputs": [
    {
     "data": {
      "text/plain": [
       "{'target': 1.0,\n",
       " 'params': {'epochs': 325.1066014107722, 'node': 27.525191895074528}}"
      ]
     },
     "execution_count": 6,
     "metadata": {},
     "output_type": "execute_result"
    }
   ],
   "source": [
    "optimizer.max"
   ]
  },
  {
   "cell_type": "code",
   "execution_count": 7,
   "metadata": {},
   "outputs": [
    {
     "name": "stdout",
     "output_type": "stream",
     "text": [
      "1.0\n",
      "[[0.]\n",
      " [1.]\n",
      " [1.]\n",
      " [0.]]\n"
     ]
    }
   ],
   "source": [
    "np.random.seed(SEED)\n",
    "rn.seed(SEED)\n",
    "os.environ['PYTHONHASHSEED']=str(SEED)\n",
    "tf.random.set_seed(SEED)\n",
    "\n",
    "model = Sequential()\n",
    "model.add(Dense(math.floor(27.525191895074528), input_dim=2, activation='relu'))\n",
    "model.add(Dense(1, activation='sigmoid'))\n",
    "\n",
    "model.compile(loss='mean_squared_error',\n",
    "              optimizer='adam',\n",
    "              metrics=['binary_accuracy'])\n",
    "\n",
    "model.fit(training_data, target_data, epochs=math.floor(325.1066014107722), verbose=0)\n",
    "\n",
    "number_of_equal_elements = np.sum(target_data==model.predict(training_data).round())\n",
    "total_elements = np.multiply(*target_data.shape)\n",
    "percentage = number_of_equal_elements/total_elements\n",
    "\n",
    "print(percentage)\n",
    "\n",
    "print(model.predict(training_data).round())"
   ]
  },
  {
   "cell_type": "code",
   "execution_count": null,
   "metadata": {},
   "outputs": [],
   "source": [
    "# #creat the neural network\n",
    "# model=Sequential()\n",
    "# model.add(Dense(16,input_dim=2,activation='relu'))\n",
    "# model.add(Dense(1))"
   ]
  },
  {
   "cell_type": "code",
   "execution_count": null,
   "metadata": {},
   "outputs": [],
   "source": [
    "#explaines what model.compile, model.fit, and model.predict\n",
    "#https://datascience.stackexchange.com/questions/46124/what-do-compile-fit-and-predict-do-in-keras-sequential-models"
   ]
  },
  {
   "cell_type": "code",
   "execution_count": null,
   "metadata": {},
   "outputs": [],
   "source": [
    "#First, we want to decide a model architecture, this is the number of hidden layers and activation functions, etc. (compile)\n",
    "# model.compile(loss='mean_squared_error', optimizer='adagrad',metrics=['accuracy'])"
   ]
  },
  {
   "cell_type": "code",
   "execution_count": null,
   "metadata": {},
   "outputs": [],
   "source": [
    "# #Secondly, we will want to train our model to get all the paramters to the correct value to map our inputs to our outputs. (fit)\n",
    "# model.fit(trained_data,expected_output,epochs=50)\n",
    "# #Lastly, we will want to use this model to do some feed-forward passes to predict novel inputs. \n",
    "# print(model.predict(trained_data))"
   ]
  },
  {
   "cell_type": "code",
   "execution_count": null,
   "metadata": {},
   "outputs": [],
   "source": [
    "error = np.mean( [0] != [0] )\n",
    "print(error)"
   ]
  },
  {
   "cell_type": "code",
   "execution_count": null,
   "metadata": {},
   "outputs": [],
   "source": []
  }
 ],
 "metadata": {
  "kernelspec": {
   "display_name": "Python 3",
   "language": "python",
   "name": "python3"
  },
  "language_info": {
   "codemirror_mode": {
    "name": "ipython",
    "version": 3
   },
   "file_extension": ".py",
   "mimetype": "text/x-python",
   "name": "python",
   "nbconvert_exporter": "python",
   "pygments_lexer": "ipython3",
   "version": "3.7.5"
  }
 },
 "nbformat": 4,
 "nbformat_minor": 2
}
