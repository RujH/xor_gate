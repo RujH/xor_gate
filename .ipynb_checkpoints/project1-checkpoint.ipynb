{
 "cells": [
  {
   "cell_type": "code",
   "execution_count": 1,
   "metadata": {},
   "outputs": [
    {
     "name": "stderr",
     "output_type": "stream",
     "text": [
      "Using TensorFlow backend.\n"
     ]
    }
   ],
   "source": [
    "#import tensorflow as tf\n",
    "#from tensorflow import keras\n",
    "from bayes_opt import BayesianOptimization\n",
    "from keras.models import Sequential\n",
    "from keras.layers import Dense\n",
    "import numpy as np\n",
    "import tensorflow\n",
    "\n",
    "import math\n",
    "\n",
    "SEED = 123456\n",
    "import os\n",
    "import random as rn\n",
    "import numpy as np\n",
    "\n",
    "os.environ['PYTHONHASHSEED']=str(SEED)\n",
    "np.random.seed(SEED)\n",
    "tensorflow.random.set_seed(SEED)\n",
    "rn.seed(SEED)"
   ]
  },
  {
   "cell_type": "code",
   "execution_count": 2,
   "metadata": {},
   "outputs": [],
   "source": [
    "trained_data=np.array([[0,0],[0,1],[1,0],[1,1]])\n",
    "expected_output=np.array([[0],[1],[1],[0]])\n"
   ]
  },
  {
   "cell_type": "code",
   "execution_count": 3,
   "metadata": {},
   "outputs": [],
   "source": [
    "def black_box_function(node, epochs):\n",
    "    \n",
    "    \n",
    "    #creat the neural network\n",
    "    model=Sequential()\n",
    "    model.add(Dense(units=math.floor(node),input_dim=2,activation='sigmoid'))\n",
    "    model.add(Dense(units=1))\n",
    "    \n",
    "    model.compile(loss='mean_squared_error', \n",
    "                  optimizer='nadam',\n",
    "                  metrics=['accuracy'])\n",
    "    \n",
    "    model.fit(trained_data,expected_output,math.floor(epochs), verbose=0)\n",
    "    \n",
    "    return model.evaluate(trained_data, expected_output,verbose=0)[1]\n"
   ]
  },
  {
   "cell_type": "code",
   "execution_count": 4,
   "metadata": {},
   "outputs": [],
   "source": [
    "bounds={'node':(16, 64),\n",
    "        'epochs':(50,100)\n",
    "       }"
   ]
  },
  {
   "cell_type": "code",
   "execution_count": 6,
   "metadata": {
    "scrolled": true
   },
   "outputs": [
    {
     "name": "stdout",
     "output_type": "stream",
     "text": [
      "|   iter    |  target   |  epochs   |   node    |\n",
      "-------------------------------------------------\n",
      "| \u001b[0m 1       \u001b[0m | \u001b[0m 0.5     \u001b[0m | \u001b[0m 71.83   \u001b[0m | \u001b[0m 32.6    \u001b[0m |\n",
      "| \u001b[0m 2       \u001b[0m | \u001b[0m 0.5     \u001b[0m | \u001b[0m 92.23   \u001b[0m | \u001b[0m 54.75   \u001b[0m |\n",
      "| \u001b[0m 3       \u001b[0m | \u001b[0m 0.5     \u001b[0m | \u001b[0m 52.81   \u001b[0m | \u001b[0m 58.56   \u001b[0m |\n",
      "| \u001b[0m 4       \u001b[0m | \u001b[0m 0.0     \u001b[0m | \u001b[0m 75.22   \u001b[0m | \u001b[0m 57.2    \u001b[0m |\n",
      "| \u001b[0m 5       \u001b[0m | \u001b[0m 0.25    \u001b[0m | \u001b[0m 80.86   \u001b[0m | \u001b[0m 21.32   \u001b[0m |\n",
      "| \u001b[0m 6       \u001b[0m | \u001b[0m 0.5     \u001b[0m | \u001b[0m 50.0    \u001b[0m | \u001b[0m 16.0    \u001b[0m |\n",
      "| \u001b[0m 7       \u001b[0m | \u001b[0m 0.25    \u001b[0m | \u001b[0m 52.21   \u001b[0m | \u001b[0m 53.79   \u001b[0m |\n",
      "| \u001b[0m 8       \u001b[0m | \u001b[0m 0.5     \u001b[0m | \u001b[0m 100.0   \u001b[0m | \u001b[0m 34.01   \u001b[0m |\n",
      "| \u001b[0m 9       \u001b[0m | \u001b[0m 0.5     \u001b[0m | \u001b[0m 100.0   \u001b[0m | \u001b[0m 64.0    \u001b[0m |\n",
      "| \u001b[0m 10      \u001b[0m | \u001b[0m 0.5     \u001b[0m | \u001b[0m 100.0   \u001b[0m | \u001b[0m 16.0    \u001b[0m |\n",
      "| \u001b[0m 11      \u001b[0m | \u001b[0m 0.0     \u001b[0m | \u001b[0m 64.26   \u001b[0m | \u001b[0m 16.0    \u001b[0m |\n",
      "| \u001b[0m 12      \u001b[0m | \u001b[0m 0.5     \u001b[0m | \u001b[0m 71.83   \u001b[0m | \u001b[0m 20.59   \u001b[0m |\n",
      "| \u001b[0m 13      \u001b[0m | \u001b[0m 0.5     \u001b[0m | \u001b[0m 50.0    \u001b[0m | \u001b[0m 31.01   \u001b[0m |\n",
      "| \u001b[0m 14      \u001b[0m | \u001b[0m 0.5     \u001b[0m | \u001b[0m 100.0   \u001b[0m | \u001b[0m 48.34   \u001b[0m |\n",
      "| \u001b[0m 15      \u001b[0m | \u001b[0m 0.5     \u001b[0m | \u001b[0m 50.0    \u001b[0m | \u001b[0m 64.0    \u001b[0m |\n",
      "| \u001b[95m 16      \u001b[0m | \u001b[95m 0.75    \u001b[0m | \u001b[95m 62.06   \u001b[0m | \u001b[95m 64.0    \u001b[0m |\n",
      "| \u001b[0m 17      \u001b[0m | \u001b[0m 0.5     \u001b[0m | \u001b[0m 87.61   \u001b[0m | \u001b[0m 40.03   \u001b[0m |\n",
      "| \u001b[0m 18      \u001b[0m | \u001b[0m 0.5     \u001b[0m | \u001b[0m 87.39   \u001b[0m | \u001b[0m 64.0    \u001b[0m |\n",
      "| \u001b[0m 19      \u001b[0m | \u001b[0m 0.5     \u001b[0m | \u001b[0m 61.2    \u001b[0m | \u001b[0m 28.51   \u001b[0m |\n",
      "| \u001b[0m 20      \u001b[0m | \u001b[0m 0.0     \u001b[0m | \u001b[0m 57.1    \u001b[0m | \u001b[0m 64.0    \u001b[0m |\n",
      "| \u001b[0m 21      \u001b[0m | \u001b[0m 0.0     \u001b[0m | \u001b[0m 64.68   \u001b[0m | \u001b[0m 44.13   \u001b[0m |\n",
      "| \u001b[0m 22      \u001b[0m | \u001b[0m 0.5     \u001b[0m | \u001b[0m 70.13   \u001b[0m | \u001b[0m 64.0    \u001b[0m |\n",
      "| \u001b[0m 23      \u001b[0m | \u001b[0m 0.5     \u001b[0m | \u001b[0m 92.47   \u001b[0m | \u001b[0m 26.38   \u001b[0m |\n",
      "| \u001b[0m 24      \u001b[0m | \u001b[0m 0.25    \u001b[0m | \u001b[0m 90.0    \u001b[0m | \u001b[0m 16.0    \u001b[0m |\n",
      "| \u001b[0m 25      \u001b[0m | \u001b[0m 0.5     \u001b[0m | \u001b[0m 64.21   \u001b[0m | \u001b[0m 56.93   \u001b[0m |\n",
      "=================================================\n"
     ]
    }
   ],
   "source": [
    "optimizer = BayesianOptimization(\n",
    "    f=black_box_function,\n",
    "    pbounds=bounds,\n",
    ")\n",
    "optimizer.maximize(n_iter=20)"
   ]
  },
  {
   "cell_type": "code",
   "execution_count": 7,
   "metadata": {},
   "outputs": [
    {
     "data": {
      "text/plain": [
       "{'target': 0.75, 'params': {'epochs': 62.05807758866316, 'node': 64.0}}"
      ]
     },
     "execution_count": 7,
     "metadata": {},
     "output_type": "execute_result"
    }
   ],
   "source": [
    "optimizer.max"
   ]
  },
  {
   "cell_type": "code",
   "execution_count": 8,
   "metadata": {},
   "outputs": [
    {
     "data": {
      "text/plain": [
       "0.5"
      ]
     },
     "execution_count": 8,
     "metadata": {},
     "output_type": "execute_result"
    }
   ],
   "source": [
    "black_box_function(64.0, 84.8819568731297)"
   ]
  },
  {
   "cell_type": "code",
   "execution_count": 9,
   "metadata": {},
   "outputs": [
    {
     "name": "stdout",
     "output_type": "stream",
     "text": [
      "[0.2685008645057678, 0.5]\n"
     ]
    }
   ],
   "source": [
    "model=Sequential()\n",
    "model.add(Dense(units=math.floor(28.068126289079167),input_dim=2,activation='sigmoid'))\n",
    "model.add(Dense(units=1))\n",
    "\n",
    "model.compile(loss='mean_squared_error', \n",
    "              optimizer='nadam',\n",
    "              metrics=['accuracy'])\n",
    "\n",
    "model.fit(trained_data,expected_output,math.floor(69.88668293719893), verbose=0)\n",
    "\n",
    "print(model.evaluate(trained_data, expected_output,verbose=0))"
   ]
  },
  {
   "cell_type": "code",
   "execution_count": 11,
   "metadata": {},
   "outputs": [
    {
     "data": {
      "text/plain": [
       "array([[0.3121562 ],\n",
       "       [0.30235058],\n",
       "       [0.45992002],\n",
       "       [0.44515273]], dtype=float32)"
      ]
     },
     "execution_count": 11,
     "metadata": {},
     "output_type": "execute_result"
    }
   ],
   "source": [
    "model.predict(trained_data)"
   ]
  },
  {
   "cell_type": "code",
   "execution_count": null,
   "metadata": {},
   "outputs": [],
   "source": [
    "# #creat the neural network\n",
    "# model=Sequential()\n",
    "# model.add(Dense(16,input_dim=2,activation='relu'))\n",
    "# model.add(Dense(1))"
   ]
  },
  {
   "cell_type": "code",
   "execution_count": null,
   "metadata": {},
   "outputs": [],
   "source": [
    "#explaines what model.compile, model.fit, and model.predict\n",
    "#https://datascience.stackexchange.com/questions/46124/what-do-compile-fit-and-predict-do-in-keras-sequential-models"
   ]
  },
  {
   "cell_type": "code",
   "execution_count": null,
   "metadata": {},
   "outputs": [],
   "source": [
    "#First, we want to decide a model architecture, this is the number of hidden layers and activation functions, etc. (compile)\n",
    "# model.compile(loss='mean_squared_error', optimizer='adagrad',metrics=['accuracy'])"
   ]
  },
  {
   "cell_type": "code",
   "execution_count": null,
   "metadata": {},
   "outputs": [],
   "source": [
    "# #Secondly, we will want to train our model to get all the paramters to the correct value to map our inputs to our outputs. (fit)\n",
    "# model.fit(trained_data,expected_output,epochs=50)\n",
    "# #Lastly, we will want to use this model to do some feed-forward passes to predict novel inputs. \n",
    "# print(model.predict(trained_data))"
   ]
  },
  {
   "cell_type": "code",
   "execution_count": null,
   "metadata": {},
   "outputs": [],
   "source": []
  },
  {
   "cell_type": "code",
   "execution_count": null,
   "metadata": {},
   "outputs": [],
   "source": []
  }
 ],
 "metadata": {
  "kernelspec": {
   "display_name": "Python 3",
   "language": "python",
   "name": "python3"
  },
  "language_info": {
   "codemirror_mode": {
    "name": "ipython",
    "version": 3
   },
   "file_extension": ".py",
   "mimetype": "text/x-python",
   "name": "python",
   "nbconvert_exporter": "python",
   "pygments_lexer": "ipython3",
   "version": "3.7.5"
  }
 },
 "nbformat": 4,
 "nbformat_minor": 2
}
